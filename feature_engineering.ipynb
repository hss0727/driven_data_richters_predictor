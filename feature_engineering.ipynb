{
 "cells": [
  {
   "cell_type": "markdown",
   "id": "cd42eff3-885f-4c74-b39e-d6b6c8d5ce04",
   "metadata": {},
   "source": [
    "<h1 class=\"\">Feature Engineering</h1>\n",
    "<h5 class=\"\">Richter's Predictor: Modeling Earthquake Damage</h5>\n",
    "<h5 class=\"\">Competition hosted by <a href=\"https://www.drivendata.org/competitions/57/nepal-earthquake/page/134/\">Driven Data</a></h5>\n",
    "<h5 class=\"\"><a href=\"https://github.com/hss0727/driven_data_richters_predictor\">Github Repo for code</a></h5>"
   ]
  },
  {
   "cell_type": "code",
   "execution_count": null,
   "id": "32ec1c9d-efe7-4911-8ed1-0921e2405b56",
   "metadata": {},
   "outputs": [],
   "source": []
  }
 ],
 "metadata": {
  "kernelspec": {
   "display_name": "Python 3 (ipykernel)",
   "language": "python",
   "name": "python3"
  },
  "language_info": {
   "codemirror_mode": {
    "name": "ipython",
    "version": 3
   },
   "file_extension": ".py",
   "mimetype": "text/x-python",
   "name": "python",
   "nbconvert_exporter": "python",
   "pygments_lexer": "ipython3",
   "version": "3.9.7"
  }
 },
 "nbformat": 4,
 "nbformat_minor": 5
}
